{
  "nbformat": 4,
  "nbformat_minor": 0,
  "metadata": {
    "colab": {
      "name": "4.DS-Tuple.ipynb",
      "version": "0.3.2",
      "provenance": [],
      "toc_visible": true
    },
    "kernelspec": {
      "name": "python3",
      "display_name": "Python 3"
    },
    "accelerator": "GPU"
  },
  "cells": [
    {
      "metadata": {
        "id": "ZPJggUV39ZP5",
        "colab_type": "text"
      },
      "cell_type": "markdown",
      "source": [
        "#### Tuple: Ordered(unindexed), immutable, unhashable"
      ]
    },
    {
      "metadata": {
        "outputHidden": false,
        "inputHidden": false,
        "id": "qpK5tlFw9ZQG",
        "colab_type": "code",
        "colab": {}
      },
      "cell_type": "code",
      "source": [
        "sample = 1\n",
        "print(type(sample))\n",
        "\n",
        "# single element and integer tuple\n",
        "sample = (\"1\")\n",
        "print(type(sample))\n",
        "\n",
        "#Single item tuple\n",
        "sample = (1, )\n",
        "print(type(sample))\n",
        "\n",
        "# string tuple\n",
        "a = 'Ram','Shiv','Gopal','Krishna'\n",
        "print(a)"
      ],
      "execution_count": 0,
      "outputs": []
    },
    {
      "metadata": {
        "id": "TWGGKKOfAUto",
        "colab_type": "text"
      },
      "cell_type": "markdown",
      "source": [
        "##### No of cages in zoo\n",
        "##### all animals in zoo\n",
        "##### animals from old zoo\n",
        "##### last animal from old zoo\n",
        "##### no of animals in new zoo"
      ]
    },
    {
      "metadata": {
        "id": "DDs03fuy9ZRB",
        "colab_type": "code",
        "outputId": "0902e396-3489-4136-e989-0abb78cd6482",
        "colab": {
          "base_uri": "https://localhost:8080/",
          "height": 36
        }
      },
      "cell_type": "code",
      "source": [
        "# length of list\n",
        "old_zoo = ('python1+++','tree','penguin')\n",
        "zoo = 'lion', 'lizard'\n",
        "print(\"Total no of animals:\",len(old_zoo))"
      ],
      "execution_count": 0,
      "outputs": [
        {
          "output_type": "stream",
          "text": [
            "Total no of animals: 3\n"
          ],
          "name": "stdout"
        }
      ]
    },
    {
      "metadata": {
        "id": "lN9oOQV_9ZRj",
        "colab_type": "code",
        "colab": {}
      },
      "cell_type": "code",
      "source": [
        "new_zoo = 'C','Java',old_zoo, zoo"
      ],
      "execution_count": 0,
      "outputs": []
    },
    {
      "metadata": {
        "id": "KmI9iIgZ9ZSO",
        "colab_type": "code",
        "outputId": "f3ecca59-fa1f-4cf7-9067-62bcfffb28e9",
        "colab": {
          "base_uri": "https://localhost:8080/",
          "height": 56
        }
      },
      "cell_type": "code",
      "source": [
        "print('All the animals in new zoo:',new_zoo)"
      ],
      "execution_count": 0,
      "outputs": [
        {
          "output_type": "stream",
          "text": [
            "All the animals in new zoo: ('C', 'Java', ('python1+++', 'tree', 'penguin'), ('lion', 'lizard'))\n"
          ],
          "name": "stdout"
        }
      ]
    },
    {
      "metadata": {
        "id": "HYpA8P8h9ZSs",
        "colab_type": "code",
        "colab": {}
      },
      "cell_type": "code",
      "source": [
        "print('no of animals from old zoo:',old_zoo)"
      ],
      "execution_count": 0,
      "outputs": []
    },
    {
      "metadata": {
        "id": "rIG55lAaA-rA",
        "colab_type": "text"
      },
      "cell_type": "markdown",
      "source": [
        "[How Tuple Index Allocated](https://docs.google.com/drawings/d/1dipbn4VuMY-HMhW0hm74d7hKgkue6Wq8xfwU7P-weQY/edit?usp=sharing)"
      ]
    },
    {
      "metadata": {
        "id": "AtXDdKdG9ZTC",
        "colab_type": "code",
        "outputId": "87a7b8fc-c6f9-475a-ea88-6b38bbc65538",
        "colab": {
          "base_uri": "https://localhost:8080/",
          "height": 92
        }
      },
      "cell_type": "code",
      "source": [
        "# It will read item from tuple 2 and all items including index number 2\n",
        "# You can't mix intertuple elements i.e. if tuple ends at index 2 so you can't write index 3.\n",
        "# each tuple is different as follows\n",
        "print('last animal from old zoo:',new_zoo[0][0])\n",
        "print('last animal from old zoo:',new_zoo[1][0])\n",
        "print('last animal from old zoo:',new_zoo[2][1][1])\n",
        "print('last animal from old zoo:',new_zoo[3][1][2])"
      ],
      "execution_count": 0,
      "outputs": [
        {
          "output_type": "stream",
          "text": [
            "last animal from old zoo: C\n",
            "last animal from old zoo: J\n",
            "last animal from old zoo: r\n",
            "last animal from old zoo: z\n"
          ],
          "name": "stdout"
        }
      ]
    },
    {
      "metadata": {
        "id": "gj2zUl3N9ZTS",
        "colab_type": "code",
        "colab": {}
      },
      "cell_type": "code",
      "source": [
        "print('total animals from both zoo:',len(old_zoo)+(len(new_zoo)-1))"
      ],
      "execution_count": 0,
      "outputs": []
    },
    {
      "metadata": {
        "id": "PeIWumzH9ZTi",
        "colab_type": "code",
        "colab": {}
      },
      "cell_type": "code",
      "source": [
        "#program to reverse tuples order\n",
        "#For understanding, name, country,lang = data\n",
        "#program to reverse tuples order\n",
        "data = (\"Ram\",\"India\", \"Python\")\n",
        "print(tuple(reversed(data)))\n"
      ],
      "execution_count": 0,
      "outputs": []
    },
    {
      "metadata": {
        "outputHidden": false,
        "inputHidden": false,
        "id": "m3XRcnQi9ZTo",
        "colab_type": "code",
        "colab": {}
      },
      "cell_type": "code",
      "source": [
        "animals = (\"Elephant\", \"Tiger\", \"Lion\")\n",
        "new_zoo = (animals[1])\n",
        "print(new_zoo)"
      ],
      "execution_count": 0,
      "outputs": []
    },
    {
      "metadata": {
        "outputHidden": false,
        "inputHidden": false,
        "id": "Aoe_rrj09ZT2",
        "colab_type": "code",
        "colab": {}
      },
      "cell_type": "code",
      "source": [
        "type(new_zoo)"
      ],
      "execution_count": 0,
      "outputs": []
    },
    {
      "metadata": {
        "id": "6Xdq9Udl-J4F",
        "colab_type": "code",
        "colab": {}
      },
      "cell_type": "code",
      "source": [
        "tuple_zoo = tuple(new_zoo)\n",
        "type(tuple_zoo)"
      ],
      "execution_count": 0,
      "outputs": []
    },
    {
      "metadata": {
        "outputHidden": false,
        "inputHidden": false,
        "id": "zO-tAso_9ZUC",
        "colab_type": "code",
        "colab": {}
      },
      "cell_type": "code",
      "source": [
        "tup = (1, 1, 3, 4, 5, 5, 6)\n",
        "print(type(tup))\n",
        "\n",
        "con_tup = set(tup)\n",
        "print(type(con_tup))\n",
        "\n",
        "print(con_tup)"
      ],
      "execution_count": 0,
      "outputs": []
    },
    {
      "metadata": {
        "outputHidden": false,
        "inputHidden": false,
        "id": "c-qofbeL9ZUT",
        "colab_type": "code",
        "colab": {}
      },
      "cell_type": "code",
      "source": [
        "a = (1, 2)\n",
        "print(a)"
      ],
      "execution_count": 0,
      "outputs": []
    },
    {
      "metadata": {
        "id": "v6KJjyi6EZpR",
        "colab_type": "code",
        "colab": {}
      },
      "cell_type": "code",
      "source": [
        "a = a + (3, )\n",
        "print(a)\n",
        "print(type(a))"
      ],
      "execution_count": 0,
      "outputs": []
    },
    {
      "metadata": {
        "id": "HOkT09PiEhip",
        "colab_type": "code",
        "colab": {}
      },
      "cell_type": "code",
      "source": [
        "a = [1]\n",
        "a = a + [2]\n",
        "print(a)"
      ],
      "execution_count": 0,
      "outputs": []
    },
    {
      "metadata": {
        "id": "I4eZcZDGhoZi",
        "colab_type": "code",
        "colab": {}
      },
      "cell_type": "code",
      "source": [
        ""
      ],
      "execution_count": 0,
      "outputs": []
    }
  ]
}